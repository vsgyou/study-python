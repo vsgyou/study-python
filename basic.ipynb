{
 "cells": [
  {
   "cell_type": "markdown",
   "id": "9f8dc34a",
   "metadata": {},
   "source": [
    "# 1. 리스트"
   ]
  },
  {
   "cell_type": "code",
   "execution_count": 2,
   "id": "23c8e838",
   "metadata": {},
   "outputs": [
    {
     "name": "stdout",
     "output_type": "stream",
     "text": [
      "True\n",
      "3\n"
     ]
    }
   ],
   "source": [
    "my_list=['오예스','몽쉘','초코파이']\n",
    "print('몽쉘' in my_list)\n",
    "print(len(my_list))"
   ]
  },
  {
   "cell_type": "code",
   "execution_count": 4,
   "id": "f69bd8f3",
   "metadata": {},
   "outputs": [
    {
     "name": "stdout",
     "output_type": "stream",
     "text": [
      "['오예스', '몽쉘', '초코파이', '빅파이', '빅파이']\n",
      "['오예스', '몽쉘', '초코파이', '빅파이']\n"
     ]
    }
   ],
   "source": [
    "my_list.append('빅파이') # 추가\n",
    "print(my_list)\n",
    "my_list.remove('빅파이')\n",
    "print(my_list)"
   ]
  },
  {
   "cell_type": "markdown",
   "id": "5f4fe392",
   "metadata": {},
   "source": [
    "### 리스트 더하기"
   ]
  },
  {
   "cell_type": "code",
   "execution_count": 8,
   "id": "ab41a7d6",
   "metadata": {},
   "outputs": [
    {
     "name": "stdout",
     "output_type": "stream",
     "text": [
      "['오예스', '몽쉘', '초코파이', '빅파이', '오뜨']\n"
     ]
    }
   ],
   "source": [
    "my_list=['오예스','몽쉘','초코파이']\n",
    "your_list=['빅파이','오뜨']\n",
    "my_list.extend(your_list) # 리스트 확장\n",
    "print(my_list)"
   ]
  },
  {
   "cell_type": "markdown",
   "id": "be822bd5",
   "metadata": {},
   "source": [
    "##### 리스트 관련 메소드\n",
    "insert() : 값 추가\n",
    "pop() : 값 삭제\n",
    "clear() : 모든 값 삭제\n",
    "sort() : 내림차순, 오름차순\n",
    "reverse() : 순서 뒤집기\n",
    "copy() : 리스트 복사\n",
    "count() : 어떤 값이 몇 개 있는지\n",
    "index() : 어떤 값이 어디에 있는지"
   ]
  },
  {
   "cell_type": "markdown",
   "id": "6bd1853b",
   "metadata": {},
   "source": [
    "# 2. 튜플 ( 한번 만들면 수정 불가, 읽기 전용 리스트)\n",
    "##### 리스트 = [값1, 값2, 값3]\n",
    "##### 튜플 = (값1, 값2, 값3) "
   ]
  },
  {
   "cell_type": "code",
   "execution_count": 12,
   "id": "78eff72c",
   "metadata": {},
   "outputs": [
    {
     "name": "stdout",
     "output_type": "stream",
     "text": [
      "오예스\n",
      "('오예스', '몽쉘')\n",
      "True\n"
     ]
    }
   ],
   "source": [
    "my_tuple=('오예스','몽쉘','초코파이')\n",
    "print(my_tuple[0])\n",
    "print(my_tuple[0:2])\n",
    "print('오예스' in my_tuple)"
   ]
  },
  {
   "cell_type": "markdown",
   "id": "1a4ea7ed",
   "metadata": {},
   "source": [
    "##### 튜플 관련 메소드\n",
    "count()\n",
    "index()"
   ]
  },
  {
   "cell_type": "code",
   "execution_count": 15,
   "id": "7b64dcee",
   "metadata": {},
   "outputs": [
    {
     "name": "stdout",
     "output_type": "stream",
     "text": [
      "오예스 몽쉘 초코파이\n"
     ]
    }
   ],
   "source": [
    "my_tuple=('오예스','몽쉘','초코파이')  # 패킹\n",
    "(pie1,pie2,pie3)=my_tuple  # 언패킹\n",
    "print(pie1,pie2,pie3)\n",
    "# pie1 = [0], pie2=[1], pie3=[2]"
   ]
  },
  {
   "cell_type": "code",
   "execution_count": 16,
   "id": "9d5cee85",
   "metadata": {},
   "outputs": [
    {
     "name": "stdout",
     "output_type": "stream",
     "text": [
      "[3, 4, 5, 6, 7, 8, 9, 10]\n"
     ]
    }
   ],
   "source": [
    "number=(1,2,3,4,5,6,7,8,9,10)\n",
    "(one,two,*others)=number  # 지정된 것들 외에는 others로 들어감\n",
    "print(others) # others 는 리스트로 됨"
   ]
  },
  {
   "cell_type": "markdown",
   "id": "aa14b19d",
   "metadata": {},
   "source": [
    "# 3. 세트(순서 보장 x, 중복 허용 x)\n",
    "##### 세트 = {값1, 값2, 값3}"
   ]
  },
  {
   "cell_type": "code",
   "execution_count": 19,
   "id": "121c5271",
   "metadata": {},
   "outputs": [
    {
     "name": "stdout",
     "output_type": "stream",
     "text": [
      "{'보쌈', '초밥', '제육덮밥', '짬뽕', '돈까스'}\n",
      "{'보쌈', '돈까스'}\n",
      "{'제육덮밥'}\n"
     ]
    }
   ],
   "source": [
    "A={'돈까스','보쌈','제육덮밥'}\n",
    "B={'짬뽕','초밥','제육덮밥'}\n",
    "print(A.union(B)) # 합집합\n",
    "print(A.difference(B)) # 차집합\n",
    "print(A.intersection(B)) # 교집합"
   ]
  },
  {
   "cell_type": "code",
   "execution_count": 20,
   "id": "d54e889b",
   "metadata": {},
   "outputs": [
    {
     "name": "stdout",
     "output_type": "stream",
     "text": [
      "{3, 4, 5}\n"
     ]
    }
   ],
   "source": [
    "set1={1,2,3,4,5}\n",
    "set2={3,4,4,5,6,7}\n",
    "print(set1.intersection(set2))"
   ]
  },
  {
   "cell_type": "code",
   "execution_count": 24,
   "id": "1e13bcdc",
   "metadata": {},
   "outputs": [
    {
     "data": {
      "text/plain": [
       "{'닭갈비', '보쌈', '제육덮밥'}"
      ]
     },
     "execution_count": 24,
     "metadata": {},
     "output_type": "execute_result"
    }
   ],
   "source": [
    "my_set={'돈까스','보쌈','제육덮밥'}\n",
    "#print(my_set[1]) # 접근불가\n",
    "#my_set[1]='빅파이' # 수정불가\n",
    "my_set.add('닭갈비')\n",
    "my_set\n",
    "my_set.remove('돈까스')\n",
    "my_set"
   ]
  },
  {
   "cell_type": "markdown",
   "id": "d2b08b9a",
   "metadata": {},
   "source": [
    "##### 세트 메소드\n",
    "copy(), discard() : 값 삭제, isdisjoint() : 두 세트에 겹치는 값이 없는지 여부, issubset() : 다른 세트의 부분집합인지 여부\n",
    "issuperset() : 다른 세트의 상위집합인지 여부, update() : 다른 세트의 값들을 더함"
   ]
  },
  {
   "cell_type": "markdown",
   "id": "304bf2d6",
   "metadata": {},
   "source": [
    "# 4. 딕셔너리\n",
    "##### 딕셔너리 = {key1:value1, key2:value2, ...}"
   ]
  },
  {
   "cell_type": "code",
   "execution_count": 29,
   "id": "d032b2a5",
   "metadata": {},
   "outputs": [
    {
     "name": "stdout",
     "output_type": "stream",
     "text": [
      "{'이름': '나귀욤', '나이': 7, '키': 120, '몸무게': 23}\n",
      "나귀욤\n",
      "7\n"
     ]
    }
   ],
   "source": [
    "person={\n",
    "    '이름':'나귀욤',\n",
    "    '나이':7,'키':120,\n",
    "    '몸무게':23}\n",
    "print(person)\n",
    "print(person['이름'])\n",
    "print(person['나이'])"
   ]
  },
  {
   "cell_type": "code",
   "execution_count": 44,
   "id": "8a31270b",
   "metadata": {},
   "outputs": [
    {
     "name": "stdout",
     "output_type": "stream",
     "text": [
      "None\n",
      "{'이름': '나귀욤', '나이': 7, '키': 150, '최종학력': '유치원'}\n",
      "dict_keys(['이름', '나이', '키', '최종학력'])\n",
      "dict_values(['나귀욤', 7, 150, '유치원'])\n",
      "dict_items([('이름', '나귀욤'), ('나이', 7), ('키', 150), ('최종학력', '유치원')])\n"
     ]
    }
   ],
   "source": [
    "# person['별명'] # 에러\n",
    "print(person.get('별명')) # None\n",
    "person['최종학력']='유치원'\n",
    "person['키']=130\n",
    "person.update({'키':150,'몸무게':44})\n",
    "person.pop('몸무게')\n",
    "print(person)\n",
    "print(person.keys())\n",
    "print(person.values())\n",
    "print(person.items())"
   ]
  },
  {
   "cell_type": "markdown",
   "id": "a383559f",
   "metadata": {},
   "source": [
    "##### 딕셔너리 메소드\n",
    "fromkeys() : 제공된 keys를 통해 새로운 딕셔너리 생성 및 반환\n",
    "popitem() :  마지막으로 추가된 데이터 삭제\n",
    "setdeault() : key에 해당하는 value 반환, key가 없다면 새로 만들고 default value 설정 및 반환\n"
   ]
  },
  {
   "cell_type": "markdown",
   "id": "9e6b58ab",
   "metadata": {},
   "source": [
    "# 5. 자료형 변환"
   ]
  },
  {
   "cell_type": "code",
   "execution_count": 46,
   "id": "c2bc5f2b",
   "metadata": {},
   "outputs": [
    {
     "name": "stdout",
     "output_type": "stream",
     "text": [
      "('오예스', '몽쉘', '초코파이')\n"
     ]
    }
   ],
   "source": [
    "my_tuple=('오예스','몽쉘')\n",
    "my_list=list(my_tuple)\n",
    "my_list.append('초코파이')\n",
    "my_tuple=tuple(my_list)\n",
    "print(my_tuple)"
   ]
  },
  {
   "cell_type": "code",
   "execution_count": 48,
   "id": "645bfbc6",
   "metadata": {},
   "outputs": [
    {
     "name": "stdout",
     "output_type": "stream",
     "text": [
      "['몽쉘', '초코파이', '오예스']\n"
     ]
    }
   ],
   "source": [
    "my_list=['오예스','몽쉘','초코파이','초코파이','초코파이']\n",
    "my_set=set(my_list)\n",
    "my_list=list(my_set)\n",
    "print(my_list)"
   ]
  },
  {
   "cell_type": "code",
   "execution_count": 52,
   "id": "62f2ff59",
   "metadata": {},
   "outputs": [
    {
     "name": "stdout",
     "output_type": "stream",
     "text": [
      "{'오예스': None, '몽쉘': None, '초코파이': None}\n",
      "['오예스', '몽쉘', '초코파이']\n"
     ]
    }
   ],
   "source": [
    "my_list=['오예스','몽쉘','초코파이','초코파이','초코파이']\n",
    "my_dic=dict.fromkeys(my_list)\n",
    "print(my_dic)\n",
    "my_list=list(my_dic)\n",
    "print(my_list)"
   ]
  },
  {
   "cell_type": "markdown",
   "id": "c2788d66",
   "metadata": {},
   "source": [
    "# 6. if문"
   ]
  },
  {
   "cell_type": "code",
   "execution_count": 53,
   "id": "ca6eebe4",
   "metadata": {},
   "outputs": [
    {
     "name": "stdout",
     "output_type": "stream",
     "text": [
      "게임 한 판\n",
      "공부 시작\n"
     ]
    }
   ],
   "source": [
    "today='일요일'\n",
    "if today=='일요일':\n",
    "    print('게임 한 판')\n",
    "print('공부 시작')"
   ]
  },
  {
   "cell_type": "code",
   "execution_count": 54,
   "id": "38f3949f",
   "metadata": {},
   "outputs": [
    {
     "name": "stdout",
     "output_type": "stream",
     "text": [
      "공부 시작\n"
     ]
    }
   ],
   "source": [
    "today='화요일'\n",
    "if today=='일요일':\n",
    "    print('게임 한 판')\n",
    "print('공부 시작')"
   ]
  },
  {
   "cell_type": "code",
   "execution_count": 56,
   "id": "dd7e2b8f",
   "metadata": {},
   "outputs": [
    {
     "name": "stdout",
     "output_type": "stream",
     "text": [
      "폰 5분만\n",
      "공부 시작\n"
     ]
    }
   ],
   "source": [
    "today='화요일'\n",
    "if today=='일요일':\n",
    "    print('게임 한 판')\n",
    "else:\n",
    "    print('폰 5분만')\n",
    "print('공부 시작')"
   ]
  },
  {
   "cell_type": "code",
   "execution_count": 59,
   "id": "7a2d9e9c",
   "metadata": {},
   "outputs": [
    {
     "name": "stdout",
     "output_type": "stream",
     "text": [
      "폰 5분만\n",
      "공부 시작\n"
     ]
    }
   ],
   "source": [
    "today='토요일'\n",
    "if today=='일요일':\n",
    "    print('게임 한 판')\n",
    "elif today=='토요일':\n",
    "    print('폰 5분만')\n",
    "else:\n",
    "    print('물 한잔')\n",
    "print('공부 시작')"
   ]
  },
  {
   "cell_type": "code",
   "execution_count": 64,
   "id": "adbf6987",
   "metadata": {},
   "outputs": [
    {
     "name": "stdout",
     "output_type": "stream",
     "text": [
      "휴.. 조심해야지\n"
     ]
    }
   ],
   "source": [
    "yellow_card=0\n",
    "foul=True\n",
    "if foul:\n",
    "    yellow_card+=1\n",
    "    if yellow_card==2:\n",
    "        print('경고누적퇴장')\n",
    "    else:\n",
    "        print('휴.. 조심해야지')\n",
    "else :\n",
    "    print('주의')"
   ]
  },
  {
   "cell_type": "markdown",
   "id": "0603a084",
   "metadata": {},
   "source": [
    "# 7. for 반복문"
   ]
  },
  {
   "cell_type": "code",
   "execution_count": 68,
   "id": "6fe71a17",
   "metadata": {},
   "outputs": [
    {
     "name": "stdout",
     "output_type": "stream",
     "text": [
      "팔 벌려뛰기 1회\n",
      "팔 벌려뛰기 2회\n",
      "팔 벌려뛰기 3회\n",
      "팔 벌려뛰기 4회\n",
      "팔 벌려뛰기 5회\n",
      "팔 벌려뛰기 6회\n",
      "팔 벌려뛰기 7회\n",
      "팔 벌려뛰기 8회\n",
      "팔 벌려뛰기 9회\n",
      "팔 벌려뛰기 10회\n"
     ]
    }
   ],
   "source": [
    "for x in range(10):   # range(이상, 미만, step)\n",
    "    print(f'팔 벌려뛰기 {x+1}회')"
   ]
  },
  {
   "cell_type": "code",
   "execution_count": 76,
   "id": "d1963996",
   "metadata": {},
   "outputs": [
    {
     "name": "stdout",
     "output_type": "stream",
     "text": [
      "1\n",
      "2\n",
      "3\n",
      "1\n",
      "2\n",
      "3\n",
      "나귀욤\n",
      "7\n",
      "120\n",
      "23\n",
      "이름\n",
      "나이\n",
      "키\n",
      "몸무게\n",
      "이름 나귀욤\n",
      "나이 7\n",
      "키 120\n",
      "몸무게 23\n"
     ]
    }
   ],
   "source": [
    "my_list=[1,2,3]\n",
    "for x in my_list:\n",
    "    print(x)\n",
    "my_tuple=(1,2,3)\n",
    "for x in my_tuple:\n",
    "    print(x)\n",
    "person={\n",
    "    '이름':'나귀욤',\n",
    "    '나이':7,'키':120,\n",
    "    '몸무게':23}\n",
    "for v in person.values():\n",
    "    print(v)\n",
    "    \n",
    "for v in person.keys():\n",
    "    print(v)\n",
    "    \n",
    "for k,v in person.items():\n",
    "    print(k,v)"
   ]
  },
  {
   "cell_type": "code",
   "execution_count": 77,
   "id": "aa0e1be7",
   "metadata": {},
   "outputs": [
    {
     "name": "stdout",
     "output_type": "stream",
     "text": [
      "a\n",
      "p\n",
      "p\n",
      "l\n",
      "e\n"
     ]
    }
   ],
   "source": [
    "fruit='apple'\n",
    "for x in fruit:\n",
    "    print(x)"
   ]
  },
  {
   "cell_type": "markdown",
   "id": "093d301b",
   "metadata": {},
   "source": [
    "# 8. while 반복문"
   ]
  },
  {
   "cell_type": "code",
   "execution_count": 84,
   "id": "dd805968",
   "metadata": {},
   "outputs": [
    {
     "name": "stdout",
     "output_type": "stream",
     "text": [
      "짐을 추가합니다\n",
      "짐을 추가합니다\n",
      "짐을 추가합니다\n",
      "짐을 추가합니다\n",
      "짐을 추가합니다\n",
      "짐을 추가합니다\n",
      "짐을 추가합니다\n",
      "짐을 추가합니다\n",
      "총 무게는 24kg 입니다\n"
     ]
    }
   ],
   "source": [
    "max,weight,item=(25,0,3)\n",
    "while weight + item <= max:\n",
    "    weight+=item\n",
    "    print('짐을 추가합니다')\n",
    "print(f'총 무게는 {weight}kg 입니다')"
   ]
  },
  {
   "cell_type": "markdown",
   "id": "b6189e78",
   "metadata": {},
   "source": [
    "# 9. break, continue"
   ]
  },
  {
   "cell_type": "code",
   "execution_count": 91,
   "id": "c0a5c178",
   "metadata": {},
   "outputs": [
    {
     "name": "stdout",
     "output_type": "stream",
     "text": [
      "시즌1 시청\n",
      "시즌2 시청\n",
      "재미없대, 그만보자\n"
     ]
    }
   ],
   "source": [
    "drama=['시즌1','시즌2','시즌3','시즌4','시즌5']\n",
    "for x in drama:\n",
    "    if x == '시즌3':\n",
    "        print('재미없대, 그만보자')\n",
    "        break\n",
    "    print(f'{x} 시청')"
   ]
  },
  {
   "cell_type": "code",
   "execution_count": 92,
   "id": "feffa4c3",
   "metadata": {},
   "outputs": [
    {
     "name": "stdout",
     "output_type": "stream",
     "text": [
      "시즌1 시청\n",
      "시즌2 시청\n",
      "재미없대, 건너뛰자\n",
      "시즌4 시청\n",
      "시즌5 시청\n"
     ]
    }
   ],
   "source": [
    "drama=['시즌1','시즌2','시즌3','시즌4','시즌5']\n",
    "for x in drama:\n",
    "    if x== '시즌3':\n",
    "        print('재미없대, 건너뛰자')\n",
    "        continue\n",
    "    print(f'{x} 시청')"
   ]
  },
  {
   "cell_type": "markdown",
   "id": "4e7359b9",
   "metadata": {},
   "source": [
    "# 10. 리스트 컴프리헨션"
   ]
  },
  {
   "cell_type": "code",
   "execution_count": 94,
   "id": "b6e0bc11",
   "metadata": {},
   "outputs": [
    {
     "name": "stdout",
     "output_type": "stream",
     "text": [
      "['SIRO-2021', 'SIRO-2022']\n"
     ]
    }
   ],
   "source": [
    "products=['JOA-2020','JOA-2021','SIRO-2021','SIRO-2022']\n",
    "recall=[] # 리콜 대상 리스트\n",
    "for p in products:\n",
    "    if p.startswith('SIRO'):\n",
    "        recall.append(p)\n",
    "print(recall)"
   ]
  },
  {
   "cell_type": "code",
   "execution_count": 96,
   "id": "55d41179",
   "metadata": {},
   "outputs": [
    {
     "data": {
      "text/plain": [
       "[4, 5]"
      ]
     },
     "execution_count": 96,
     "metadata": {},
     "output_type": "execute_result"
    }
   ],
   "source": [
    "my_list=[1,2,3,4,5]\n",
    "new_list=[x for x in my_list if x>3]  # 처음 x 대신 x+1,x*3,str(x) 등 변환 가능"
   ]
  },
  {
   "cell_type": "code",
   "execution_count": 99,
   "id": "8a7e2c31",
   "metadata": {},
   "outputs": [
    {
     "data": {
      "text/plain": [
       "['SIRO-2021', 'SIRO-2022']"
      ]
     },
     "execution_count": 99,
     "metadata": {},
     "output_type": "execute_result"
    }
   ],
   "source": [
    "recalls=[p for p in products if p.startswith('SIRO')]\n",
    "recalls"
   ]
  },
  {
   "cell_type": "code",
   "execution_count": 100,
   "id": "5729f199",
   "metadata": {},
   "outputs": [
    {
     "name": "stdout",
     "output_type": "stream",
     "text": [
      "['KOREA', 'FRANCE']\n"
     ]
    }
   ],
   "source": [
    "my_list=['korea','English','france']\n",
    "new_list=[x.upper() for x in my_list if 'a' in x]\n",
    "print(new_list)"
   ]
  },
  {
   "cell_type": "markdown",
   "id": "9e84bc9f",
   "metadata": {},
   "source": [
    "# 11. 함수\n",
    "##### def 함수명(파라미터):"
   ]
  },
  {
   "cell_type": "code",
   "execution_count": 105,
   "id": "3aeb5d0b",
   "metadata": {},
   "outputs": [
    {
     "name": "stdout",
     "output_type": "stream",
     "text": [
      "나장발 고객님\n",
      "감성 커트 가격은 15000원 입니다\n",
      "None\n",
      "나수염 고객님\n",
      "감성 커트 가격은 15000원 입니다\n",
      "None\n"
     ]
    }
   ],
   "source": [
    "def show_price(customer):\n",
    "    print(f'{customer} 고객님')\n",
    "    print('감성 커트 가격은 15000원 입니다')\n",
    "customer1='나장발'\n",
    "customer2='나수염'\n",
    "print(show_price(customer1))\n",
    "print(show_price(customer2))"
   ]
  },
  {
   "cell_type": "markdown",
   "id": "98d9dee0",
   "metadata": {},
   "source": [
    "##### def 함수명(파라미터):\n",
    "#####        수행할 문장\n",
    "#####        return 반환값"
   ]
  },
  {
   "cell_type": "code",
   "execution_count": 108,
   "id": "75a69605",
   "metadata": {},
   "outputs": [
    {
     "name": "stdout",
     "output_type": "stream",
     "text": [
      "커트가격은 10000입니다.\n"
     ]
    }
   ],
   "source": [
    "def get_price(is_vip):\n",
    "    if is_vip==True:\n",
    "        return 10000\n",
    "    else:\n",
    "        return 15000\n",
    "price=get_price(True)\n",
    "print(f'커트가격은 {price}입니다.')"
   ]
  },
  {
   "cell_type": "markdown",
   "id": "dc4d682a",
   "metadata": {},
   "source": [
    "### 기본값\n",
    "##### def 함수명(파라미터=기본값):\n",
    "#####      수행할 문장"
   ]
  },
  {
   "cell_type": "code",
   "execution_count": 111,
   "id": "ba186b71",
   "metadata": {},
   "outputs": [
    {
     "name": "stdout",
     "output_type": "stream",
     "text": [
      "10000 15000\n"
     ]
    }
   ],
   "source": [
    "def get_price(is_vip=False):\n",
    "    if is_vip==True:\n",
    "        return 10000\n",
    "    else:\n",
    "        return 15000\n",
    "price1=get_price(True)\n",
    "price2=get_price()\n",
    "print(price1,price2)"
   ]
  },
  {
   "cell_type": "markdown",
   "id": "6c49ca32",
   "metadata": {},
   "source": [
    "### 키워드값"
   ]
  },
  {
   "cell_type": "code",
   "execution_count": 121,
   "id": "67cd22a4",
   "metadata": {},
   "outputs": [
    {
     "name": "stdout",
     "output_type": "stream",
     "text": [
      "아메리카노 Regular사이즈 2샷\n",
      "포장 주문이 완료되었습니다.\n",
      "None\n",
      "아메리카노 Regular사이즈 2샷\n",
      "포장 주문이 완료되었습니다.\n",
      "None\n",
      "아메리카노 Regular사이즈 Regular샷\n",
      "주문이 완료되었습니다\n",
      "None\n"
     ]
    }
   ],
   "source": [
    "def order(shot=2,size='Regular',takeout=True):\n",
    "    print(f'아메리카노 {size}사이즈 {shot}샷')\n",
    "    if takeout:\n",
    "        print('포장 주문이 완료되었습니다.')\n",
    "    else:\n",
    "        print('주문이 완료되었습니다')\n",
    "print(order())\n",
    "print(order(2,takeout=True))\n",
    "print(order('Regular',takeout=False))"
   ]
  },
  {
   "cell_type": "markdown",
   "id": "dde51307",
   "metadata": {},
   "source": [
    "### 가변인자"
   ]
  },
  {
   "cell_type": "code",
   "execution_count": 124,
   "id": "43475888",
   "metadata": {},
   "outputs": [
    {
     "name": "stdout",
     "output_type": "stream",
     "text": [
      "2022년 6월 10일\n",
      "나발장\n",
      "2022년 6월 10일\n",
      "나발장\n",
      "나수염\n",
      "2022년 6월 10일\n",
      "나발장\n",
      "나수염\n",
      "나김리\n"
     ]
    }
   ],
   "source": [
    "def visit(today,*customers):\n",
    "    print(today)\n",
    "    for customer in customers:\n",
    "        print(customer)\n",
    "visit('2022년 6월 10일','나발장')\n",
    "visit('2022년 6월 10일','나발장','나수염')\n",
    "visit('2022년 6월 10일','나발장','나수염','나김리')"
   ]
  },
  {
   "cell_type": "markdown",
   "id": "4f53d430",
   "metadata": {},
   "source": [
    "# 12. 사용자입력"
   ]
  },
  {
   "cell_type": "code",
   "execution_count": 130,
   "id": "5de1170c",
   "metadata": {},
   "outputs": [
    {
     "name": "stdout",
     "output_type": "stream",
     "text": [
      "예약자분 성함이 어떻게 되나요?정지운\n",
      "정지운\n",
      "총 몇 분이세요?7\n",
      "죄송하지만 저희 식당은 최대 4분 까지만 예약 가능합니다.\n"
     ]
    }
   ],
   "source": [
    "name=input('예약자분 성함이 어떻게 되나요?')\n",
    "print(name)\n",
    "num=int(input('총 몇 분이세요?')) # 정수변환 안하면 input은 문자처리됨\n",
    "if num > 4:\n",
    "    print('죄송하지만 저희 식당은 최대 4분 까지만 예약 가능합니다.')"
   ]
  },
  {
   "cell_type": "markdown",
   "id": "71e89654",
   "metadata": {},
   "source": [
    "# 13. 파일 입출력"
   ]
  },
  {
   "cell_type": "code",
   "execution_count": 136,
   "id": "d4dab9a7",
   "metadata": {},
   "outputs": [],
   "source": [
    "f=open('list.txt','w',encoding='utf8') # 쓰기 모드(w)로 파일 열기, 한글을 쓰기 위해 'utf8'\n",
    "f.write('김XX\\n')\n",
    "f.write('정XX\\n')\n",
    "f.write('허XX\\n')\n",
    "f.close()"
   ]
  },
  {
   "cell_type": "code",
   "execution_count": 139,
   "id": "a728fccb",
   "metadata": {},
   "outputs": [
    {
     "name": "stdout",
     "output_type": "stream",
     "text": [
      "김XX\n",
      "정XX\n",
      "허XX\n",
      "\n"
     ]
    }
   ],
   "source": [
    "f=open('list.txt','r',encoding='utf8')\n",
    "contents=f.read()\n",
    "print(contents)\n",
    "f.close()"
   ]
  },
  {
   "cell_type": "markdown",
   "id": "707a0ea3",
   "metadata": {},
   "source": [
    "# 14. with"
   ]
  },
  {
   "cell_type": "code",
   "execution_count": 140,
   "id": "c9b08a7c",
   "metadata": {},
   "outputs": [],
   "source": [
    "with open('list.txt','w',encoding='utf8') as f:\n",
    "    f.write('김XX\\n')\n",
    "    f.write('정XX\\n')\n",
    "    f.write('허XX\\n')"
   ]
  },
  {
   "cell_type": "code",
   "execution_count": 141,
   "id": "473f224e",
   "metadata": {},
   "outputs": [
    {
     "name": "stdout",
     "output_type": "stream",
     "text": [
      "김XX\n",
      "정XX\n",
      "허XX\n",
      "\n"
     ]
    }
   ],
   "source": [
    "with open('list.txt','r',encoding='utf8') as f:\n",
    "    contents=f.read()\n",
    "    print(contents)"
   ]
  },
  {
   "cell_type": "markdown",
   "id": "2494bade",
   "metadata": {},
   "source": [
    "# 15. class"
   ]
  },
  {
   "cell_type": "code",
   "execution_count": 148,
   "id": "12e8e31e",
   "metadata": {},
   "outputs": [
    {
     "name": "stdout",
     "output_type": "stream",
     "text": [
      "까망이 2000000\n",
      "하양이 1000000\n",
      "까망이 2000000 1호\n"
     ]
    }
   ],
   "source": [
    "class BlackBox:\n",
    "    def __init__(self,name,price):\n",
    "        self.name=name\n",
    "        self.price=price\n",
    "b1=BlackBox('까망이',2000000)\n",
    "print(b1.name,b1.price)\n",
    "b2=BlackBox('하양이',1000000)\n",
    "print(b2.name,b2.price)\n",
    "b1.nickname='1호'\n",
    "print(b1.name,b1.price,b1.nickname)"
   ]
  },
  {
   "cell_type": "markdown",
   "id": "502d73ae",
   "metadata": {},
   "source": [
    "# 16. 메소드(init)"
   ]
  },
  {
   "cell_type": "code",
   "execution_count": 150,
   "id": "055bd002",
   "metadata": {},
   "outputs": [
    {
     "name": "stdout",
     "output_type": "stream",
     "text": [
      "20분 동안 여행 모드 ON\n"
     ]
    }
   ],
   "source": [
    "class BlackBox:\n",
    "    def __init__(self,name,price):\n",
    "        self.name=name\n",
    "        self.price=price\n",
    "    def set_travel_mode(self,min):\n",
    "        print(str(min)+'분 동안 여행 모드 ON')\n",
    "b1=BlackBox('까망이',2000000)\n",
    "b1.set_travel_mode(20)"
   ]
  },
  {
   "cell_type": "code",
   "execution_count": 153,
   "id": "d1d60b95",
   "metadata": {},
   "outputs": [
    {
     "name": "stdout",
     "output_type": "stream",
     "text": [
      "제 이름은 나도코딩이고 29살 입니다.\n"
     ]
    }
   ],
   "source": [
    "class Student:\n",
    "    def introduce(self,name,age):\n",
    "        print(f'제 이름은 {name}이고 {age}살 입니다.')\n",
    "student=Student()\n",
    "student.introduce('나도코딩',29)"
   ]
  },
  {
   "cell_type": "markdown",
   "id": "8c9c58ba",
   "metadata": {},
   "source": [
    "# 17. self"
   ]
  },
  {
   "cell_type": "code",
   "execution_count": 157,
   "id": "0e7f1d2c",
   "metadata": {},
   "outputs": [
    {
     "name": "stdout",
     "output_type": "stream",
     "text": [
      "까망이 20 분 동안 여행 모드 ON\n",
      "하양이 10 분 동안 여행 모드 ON\n",
      "까망이 20 분 동안 여행 모드 ON\n"
     ]
    }
   ],
   "source": [
    "class BlackBox:\n",
    "    def __init__(self,name,price):\n",
    "        self.name=name\n",
    "        self.price=price\n",
    "    def set_travel_mode(self,min):\n",
    "        print(f'{self.name} {min} 분 동안 여행 모드 ON')\n",
    "b1=BlackBox('까망이',2000000)\n",
    "b2=BlackBox('하양이',1000000)\n",
    "b1.set_travel_mode(20)\n",
    "b2.set_travel_mode(10)\n",
    "BlackBox.set_travel_mode(b1,20)"
   ]
  },
  {
   "cell_type": "markdown",
   "id": "7a876713",
   "metadata": {},
   "source": [
    "# 18. class의 상속"
   ]
  },
  {
   "cell_type": "code",
   "execution_count": 159,
   "id": "3535a46b",
   "metadata": {},
   "outputs": [
    {
     "name": "stdout",
     "output_type": "stream",
     "text": [
      "까망이 20 분 동안 여행 모드 ON\n",
      "하양이 10 분 동안 여행 모드 ON\n"
     ]
    }
   ],
   "source": [
    "class TravelBlackBox(BlackBox):\n",
    "    def set_travel_mode(self,min):\n",
    "        print(f'{self.name} {min} 분 동안 여행 모드 ON')\n",
    "b1=BlackBox('까망이',2000000)\n",
    "b2=BlackBox('하양이',1000000)\n",
    "b1.set_travel_mode(20)\n",
    "b2.set_travel_mode(10)"
   ]
  },
  {
   "cell_type": "markdown",
   "id": "45afd1ab",
   "metadata": {},
   "source": [
    "# 19. super"
   ]
  },
  {
   "cell_type": "code",
   "execution_count": 164,
   "id": "971ca3a8",
   "metadata": {},
   "outputs": [],
   "source": [
    "class TravelBlackBox(BlackBox):\n",
    "    def __init__(self,name,price,sd):\n",
    "        BlackBox.__init__(self,name,price)\n",
    "        self.sd=sd\n",
    "    def set_travel_mode(self,min):\n",
    "        print(f'{self.name} {min} 분 동안 여행 모드 ON')"
   ]
  },
  {
   "cell_type": "code",
   "execution_count": 163,
   "id": "1061f039",
   "metadata": {},
   "outputs": [
    {
     "name": "stdout",
     "output_type": "stream",
     "text": [
      "까망이 20 분 동안 여행 모드 ON\n",
      "하양이 10 분 동안 여행 모드 ON\n"
     ]
    }
   ],
   "source": [
    "class TravelBlackBox(BlackBox):\n",
    "    def __init__(self,name,price,sd):\n",
    "        super.__init__(self,name,price)\n",
    "        self.sd=sd\n",
    "    def set_travel_mode(self,min):\n",
    "        print(f'{self.name} {min} 분 동안 여행 모드 ON')\n",
    "b1=BlackBox('까망이',2000000)\n",
    "b2=BlackBox('하양이',1000000)\n",
    "b1.set_travel_mode(20)\n",
    "b2.set_travel_mode(10)"
   ]
  },
  {
   "cell_type": "markdown",
   "id": "c63d99cb",
   "metadata": {},
   "source": [
    "#  20. 다중상속"
   ]
  },
  {
   "cell_type": "code",
   "execution_count": 169,
   "id": "e6dfeaf2",
   "metadata": {},
   "outputs": [
    {
     "name": "stdout",
     "output_type": "stream",
     "text": [
      "추억용 여행 영상 제작\n"
     ]
    }
   ],
   "source": [
    "class VideoMaker:\n",
    "    def make(self):\n",
    "        print('추억용 여행 영상 제작')\n",
    "        \n",
    "class TravelBlackBox(BlackBox,VideoMaker):\n",
    "    def __init__(self,name,price,sd):\n",
    "        super().__init__(name,price)\n",
    "        self.sd=sd\n",
    "        \n",
    "    def set_travel_mode(self,min):\n",
    "        print(str(min)+'분 동안 여행 모드 ON')\n",
    "b1=TravelBlackBox('까망이',2000000,64)\n",
    "b1.make()"
   ]
  },
  {
   "cell_type": "code",
   "execution_count": 174,
   "id": "fe9c4c83",
   "metadata": {},
   "outputs": [
    {
     "name": "stdout",
     "output_type": "stream",
     "text": [
      "추억용 여행 영상 제작\n",
      "메일 발송\n"
     ]
    }
   ],
   "source": [
    "# MailSender 추가\n",
    "class MailSender:\n",
    "    def send(self):\n",
    "        print('메일 발송')\n",
    "class TravelBlackBox(BlackBox,VideoMaker,MailSender):\n",
    "    def __init__(self,name,price,sd):\n",
    "        super().__init__(name,price)\n",
    "        self.sd=sd\n",
    "        \n",
    "    def set_travel_mode(self,min):\n",
    "        print(str(min)+'분 동안 여행 모드 ON')\n",
    "b1=TravelBlackBox('까망이',2000000,64)\n",
    "b1.make()\n",
    "b1.send()"
   ]
  },
  {
   "cell_type": "code",
   "execution_count": 177,
   "id": "839c5871",
   "metadata": {},
   "outputs": [
    {
     "name": "stdout",
     "output_type": "stream",
     "text": [
      "20분 동안 여행 모드 ON\n",
      "15분 동안 여행 모드 ON\n",
      "추억용 여행 영상 제작\n",
      "메일 발송\n"
     ]
    }
   ],
   "source": [
    "# AdvancedTravelBlackBox 추가\n",
    "class AdvancedTravlBlackBox(TravelBlackBox):\n",
    "    def set_travel_mode(self,min):\n",
    "        print(str(min)+'분 동안 여행 모드 ON')\n",
    "        self.make()\n",
    "        self.send()\n",
    "        \n",
    "class TavelBlackBox(BlackBox,VideoMaker,MailSender):\n",
    "    def __init__(self,name,price,sd):\n",
    "        super().__init__(name,price)\n",
    "        self.sd=sd\n",
    "        \n",
    "b1=TravelBlackBox('하양이',1000000,64)\n",
    "b1.set_travel_mode(20)\n",
    "\n",
    "b2=AdvancedTravlBlackBox('초록이',1200000,64)\n",
    "b2.set_travel_mode(15)"
   ]
  },
  {
   "cell_type": "markdown",
   "id": "c46a6cf2",
   "metadata": {},
   "source": [
    "# 21. 예외처리"
   ]
  },
  {
   "cell_type": "markdown",
   "id": "e0c7c838",
   "metadata": {},
   "source": [
    "### try:\n",
    "#####    수행문장\n",
    "### except:\n",
    "#####    에러 발생 시 수행 문장\n",
    "### else:\n",
    "#####    정상 동작 시 수행 문장\n",
    "### finally:\n",
    "#####    마지막으로 수행할 문장"
   ]
  },
  {
   "cell_type": "code",
   "execution_count": 180,
   "id": "34de264b",
   "metadata": {},
   "outputs": [
    {
     "name": "stdout",
     "output_type": "stream",
     "text": [
      "에러가 발생했어요\n",
      "수행종료\n"
     ]
    }
   ],
   "source": [
    "num1,num2=2,0\n",
    "try:\n",
    "    result=num1/num2\n",
    "    print(f'연산 결과는 {result}입니다')\n",
    "except:\n",
    "    print('에러가 발생했어요')\n",
    "else:\n",
    "    print('정상 동작했어요')\n",
    "finally:\n",
    "    print('수행종료')"
   ]
  },
  {
   "cell_type": "code",
   "execution_count": 181,
   "id": "19be9424",
   "metadata": {},
   "outputs": [
    {
     "name": "stdout",
     "output_type": "stream",
     "text": [
      "연산 결과는 1.0입니다\n",
      "정상 동작했어요\n",
      "수행종료\n"
     ]
    }
   ],
   "source": [
    "num1,num2=3,3\n",
    "try:\n",
    "    result=num1/num2\n",
    "    print(f'연산 결과는 {result}입니다')\n",
    "except:\n",
    "    print('에러가 발생했어요')\n",
    "else:\n",
    "    print('정상 동작했어요')\n",
    "finally:\n",
    "    print('수행종료')"
   ]
  },
  {
   "cell_type": "code",
   "execution_count": 186,
   "id": "fbb872c6",
   "metadata": {},
   "outputs": [
    {
     "name": "stdout",
     "output_type": "stream",
     "text": [
      "0으로 나눌 수 없어요\n"
     ]
    }
   ],
   "source": [
    "num1,num2=2,0\n",
    "try:\n",
    "    result=num1/num2\n",
    "    print(f'연산 결과는 {result}입니다')\n",
    "\n",
    "except ZeroDivisionError:\n",
    "    print('0으로 나눌 수 없어요')\n",
    "\n",
    "except TypeError:\n",
    "    print('값의 형태가 이상해요')\n",
    "\n",
    "except Exception as err:\n",
    "    print('에러가 발생했어요:',err)\n",
    "\n",
    "# error의 원인에 따라 다르게 처리하고 싶을 때 사용"
   ]
  },
  {
   "cell_type": "code",
   "execution_count": null,
   "id": "173f8727",
   "metadata": {},
   "outputs": [],
   "source": []
  }
 ],
 "metadata": {
  "kernelspec": {
   "display_name": "Python 3",
   "language": "python",
   "name": "python3"
  },
  "language_info": {
   "codemirror_mode": {
    "name": "ipython",
    "version": 3
   },
   "file_extension": ".py",
   "mimetype": "text/x-python",
   "name": "python",
   "nbconvert_exporter": "python",
   "pygments_lexer": "ipython3",
   "version": "3.8.8"
  }
 },
 "nbformat": 4,
 "nbformat_minor": 5
}
